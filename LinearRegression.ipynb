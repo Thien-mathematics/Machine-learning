{
 "cells": [
  {
   "metadata": {},
   "cell_type": "code",
   "outputs": [],
   "execution_count": null,
   "source": "import numpy as np",
   "id": "9ea11796f7de35d"
  },
  {
   "cell_type": "code",
   "execution_count": null,
   "id": "initial_id",
   "metadata": {
    "collapsed": true
   },
   "outputs": [],
   "source": [
    "class LinearRegression:\n",
    "    def __init__(self):      \n",
    "        self.weight = None\n",
    "        self.bias = None\n",
    "        self.learning_rate = None\n",
    "        \n",
    "        self.X = None\n",
    "        self.y = None\n",
    "        \n",
    "        self.losses = []\n",
    "        \n",
    "        \n",
    "    def y_hat(self):\n",
    "        return np.dot(self.weight, self.X) + self.bias\n",
    "    \n",
    "    def loss(self):\n",
    "        return np.mean((self.y - self.y_hat())**2)\n",
    "    \n",
    "    def gradient(self):\n",
    "        dw = -2*np.dot(self.X, (self.y - self.y_hat()))\n",
    "        db = -2*np.sum(self.y - self.y_hat())\n",
    "        \n",
    "        return dw, db\n",
    "    \n",
    "    def up_weight(self):\n",
    "        dw, db = self.gradient()\n",
    "        \n",
    "        self.weight -= self.learning_rate * dw\n",
    "        self.bias -= self.learning_rate * db\n",
    "    \n",
    "    def train(self, batch_size, data_train, learning_rate=0.01, epochs=100):\n",
    "        self.X = data_train[:, :-1]\n",
    "        self.y = data_train[:, -1]\n",
    "        self.learning_rate = learning_rate\n",
    "        \n",
    "        self.weight = np.random.rand(self.X.shape[1])\n",
    "        self.bias = np.random.rand()\n",
    "        \n",
    "        for epoch in range(epochs):\n",
    "            for i in range(0, len(data_train), batch_size):\n",
    "                self.X = data_train[i:i+batch_size, :-1]\n",
    "                self.y = data_train[i:i+batch_size, -1]\n",
    "                \n",
    "                self.up_weight()\n",
    "                \n",
    "            self.losses.append(self.loss())\n",
    "            print(f'epoch : {epoch}, loss : {self.loss()}')\n",
    "            \n",
    "        return self.losses\n",
    "    \n",
    "    def predict(self, data):\n",
    "        return np.array([self.predict_eval(data[i]) for i in range(len(data))])\n",
    "    "
   ]
  },
  {
   "metadata": {},
   "cell_type": "code",
   "outputs": [],
   "execution_count": null,
   "source": "",
   "id": "f867a1ea445477a5"
  }
 ],
 "metadata": {
  "kernelspec": {
   "display_name": "Python 3",
   "language": "python",
   "name": "python3"
  },
  "language_info": {
   "codemirror_mode": {
    "name": "ipython",
    "version": 2
   },
   "file_extension": ".py",
   "mimetype": "text/x-python",
   "name": "python",
   "nbconvert_exporter": "python",
   "pygments_lexer": "ipython2",
   "version": "2.7.6"
  }
 },
 "nbformat": 4,
 "nbformat_minor": 5
}
